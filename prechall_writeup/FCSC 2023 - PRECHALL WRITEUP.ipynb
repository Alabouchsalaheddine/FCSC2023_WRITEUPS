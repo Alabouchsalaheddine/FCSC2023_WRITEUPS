{
 "cells": [
  {
   "cell_type": "markdown",
   "id": "31c5d08f",
   "metadata": {},
   "source": [
    "# FCSC 2023 - PRECHALL WRITEUP"
   ]
  },
  {
   "cell_type": "markdown",
   "id": "4afef2b4",
   "metadata": {},
   "source": [
    "It is said on the website of the FCSC that there is a prechallenge"
   ]
  },
  {
   "cell_type": "markdown",
   "id": "ec1d68c2",
   "metadata": {},
   "source": [
    "After some research on the website of the prechallenge, analysing network (events, requests) and reading the code of every page, we don't find anything"
   ]
  },
  {
   "cell_type": "markdown",
   "id": "46da313c",
   "metadata": {},
   "source": [
    "By adding \"teasing\" to the root link of the website of the challenge we land on the page of the statement"
   ]
  },
  {
   "cell_type": "markdown",
   "id": "5033fef3",
   "metadata": {},
   "source": [
    "https://france-cybersecurity-challenge.fr/teasing"
   ]
  },
  {
   "cell_type": "markdown",
   "id": "3e9d3bc2",
   "metadata": {},
   "source": [
    "![alt text](prechall_statement.png \"Prechall statement\")"
   ]
  },
  {
   "cell_type": "markdown",
   "id": "b22070b9",
   "metadata": {},
   "source": [
    "We have the following puzzle image"
   ]
  },
  {
   "cell_type": "markdown",
   "id": "c36f4ac8",
   "metadata": {},
   "source": [
    "![alt text](teaser.png \"teaser\")"
   ]
  },
  {
   "cell_type": "markdown",
   "id": "ef9bd660",
   "metadata": {},
   "source": [
    "We should solve the puzzle\n",
    "\n",
    "I begin solving it using paint in order to read what it said"
   ]
  },
  {
   "cell_type": "markdown",
   "id": "d09c9bcd",
   "metadata": {},
   "source": [
    "<img src=\"teaser_solved_manually.png\" width=\"500\">"
   ]
  },
  {
   "cell_type": "markdown",
   "id": "2c228fb2",
   "metadata": {},
   "source": [
    "The image mentions \"LSB\" stegano which is a method of hiding information within an image by modifying the least significant bits (LSBs) of the pixels."
   ]
  },
  {
   "cell_type": "markdown",
   "id": "2788cc7c",
   "metadata": {},
   "source": [
    "Solving the puzzle manyally was not a good idea, because we need to keep all the pixels of the original image"
   ]
  },
  {
   "cell_type": "markdown",
   "id": "510c29f7",
   "metadata": {},
   "source": [
    "I made the following code that divides the image into 5 small images horizontally and 11 vertically"
   ]
  },
  {
   "cell_type": "code",
   "execution_count": 11,
   "id": "a91490d9",
   "metadata": {},
   "outputs": [],
   "source": [
    "from PIL import Image\n",
    "def cropImage() :\n",
    "    im = Image.open(r\"teaser.png\") \n",
    "    for i in range (0, 1331, 121) : \n",
    "        for j in range (0, 1000, 200) :\n",
    "            im1 = im.crop((j, i, j+200, i+121))\n",
    "            im1.save(\"cropped_images_step1/image_\"+str(i)+\"_\"+str(j)+\".png\")\n",
    "cropImage()"
   ]
  },
  {
   "cell_type": "markdown",
   "id": "a097b301",
   "metadata": {},
   "source": [
    "We reorder the images in another repository (cropped_images_in_order_step1) by renaming them from 1 to 56"
   ]
  },
  {
   "cell_type": "code",
   "execution_count": 13,
   "id": "3b4dd7f2",
   "metadata": {},
   "outputs": [],
   "source": [
    "newImage = Image.new(\"RGB\", (1000, 1331), (0,0,0,0))\n",
    "k=1\n",
    "while k <= 55 :\n",
    "    for i in range (0, 1331, 121) : \n",
    "        for j in range (0, 1000, 200) :\n",
    "            im = Image.open(\"cropped_images_in_order_step1/\"+str(k)+\".png\") \n",
    "            newImage.paste(im, (j, i))\n",
    "            k+=1\n",
    "newImage.save(\"teaser_solved_automated.png\")"
   ]
  },
  {
   "cell_type": "markdown",
   "id": "50d24723",
   "metadata": {},
   "source": [
    "![alt text](teaser_solved_automated.png \"Teaser solved automatically\")"
   ]
  },
  {
   "cell_type": "markdown",
   "id": "11b210a1",
   "metadata": {},
   "source": [
    "Now that we have our image in order, we can search an LSB stegano algorithm, ask Chat GPT 3 :p"
   ]
  },
  {
   "cell_type": "markdown",
   "id": "c0c0168f",
   "metadata": {},
   "source": [
    "Or use an online tool that can do the job for you"
   ]
  },
  {
   "cell_type": "markdown",
   "id": "3b74afea",
   "metadata": {},
   "source": [
    "We can use the following website : https://stegonline.georgeom.net/upload"
   ]
  },
  {
   "cell_type": "markdown",
   "id": "fbf2f5e3",
   "metadata": {},
   "source": [
    "![alt text](stegano_online_screenshot.png \"stegano_online_screenshot\")"
   ]
  },
  {
   "cell_type": "markdown",
   "id": "7ed4568c",
   "metadata": {},
   "source": [
    "We have as a result another image puzzle to solve !"
   ]
  },
  {
   "cell_type": "markdown",
   "id": "b8692b7d",
   "metadata": {},
   "source": [
    "![alt text](teaser_puzzle_step2.png \"teaser_puzzle_step2\")"
   ]
  },
  {
   "cell_type": "markdown",
   "id": "815c4105",
   "metadata": {},
   "source": [
    "For the memes lovers, we can easily recognize the smilying old man meme"
   ]
  },
  {
   "cell_type": "markdown",
   "id": "10962307",
   "metadata": {},
   "source": [
    "We do the same as before, we solve the puzzle"
   ]
  },
  {
   "cell_type": "code",
   "execution_count": 17,
   "id": "12c82530",
   "metadata": {},
   "outputs": [],
   "source": [
    "from PIL import Image\n",
    "def cropImage() :\n",
    "    im = Image.open(r\"teaser_puzzle_step2.png\") \n",
    "    for i in range (0, 660, 60) : \n",
    "        for j in range (0, 500, 100) :\n",
    "            im1 = im.crop((j, i, j+100, i+60))\n",
    "            im1.save(\"cropped_images_step2/image_\"+str(i)+\"_\"+str(j)+\".png\")\n",
    "cropImage()"
   ]
  },
  {
   "cell_type": "code",
   "execution_count": 19,
   "id": "b3eb0b9d",
   "metadata": {},
   "outputs": [],
   "source": [
    "newImage = Image.new(\"RGB\", (500, 660), (0,0,0,0))\n",
    "k=1\n",
    "while k <= 55 :\n",
    "    for i in range (0, 660, 60) : \n",
    "        for j in range (0, 500, 100) :\n",
    "            im = Image.open(\"cropped_images_in_order_step2/\"+str(k)+\".png\") \n",
    "            newImage.paste(im, (j, i))\n",
    "            k+=1\n",
    "newImage.save(\"teaser_solved_automated_step2.png\")"
   ]
  },
  {
   "cell_type": "markdown",
   "id": "9f8b3ff2",
   "metadata": {},
   "source": [
    "The result is the following image"
   ]
  },
  {
   "cell_type": "markdown",
   "id": "0cdb0fc6",
   "metadata": {},
   "source": [
    "![alt text](teaser_solved_automated_step2.png \"teaser_solved_automated_step2\")"
   ]
  },
  {
   "cell_type": "markdown",
   "id": "7398b157",
   "metadata": {},
   "source": [
    "We do the same as before, we see if this photo is hiding some information using LSB stegano reverse algorithme or using the online tool"
   ]
  },
  {
   "cell_type": "markdown",
   "id": "0a02dde1",
   "metadata": {},
   "source": [
    "As expected something was hidden in the image, we have an ELF file ==> teaser_solved_automated_step2.elf"
   ]
  },
  {
   "cell_type": "markdown",
   "id": "6ae14298",
   "metadata": {},
   "source": [
    "We can try to open the file with Notepad++ and search for some keywords like \"FCSC\""
   ]
  },
  {
   "cell_type": "markdown",
   "id": "50257618",
   "metadata": {},
   "source": [
    "We can also try to run the elf file using gdb commands (run, info functions, info registers, ...)\n",
    "\n",
    "After several attempts, it looks like it's an assembly code, so we can try to force values on registers, but that doesn't lead to any good results.\n",
    "\n",
    "We can use a tool to convert the assembly code to pseudo code. IDA is good tool for that"
   ]
  },
  {
   "cell_type": "markdown",
   "id": "434873d7",
   "metadata": {},
   "source": [
    "#### Pseudo code"
   ]
  },
  {
   "cell_type": "markdown",
   "id": "71ee03ec",
   "metadata": {},
   "source": [
    "IDA pseudo code conversion feature gives us the following"
   ]
  },
  {
   "cell_type": "markdown",
   "id": "b55c9ad6",
   "metadata": {},
   "source": [
    "![alt text](IDA_Screenshot.png \"IDA_Screenshot\")"
   ]
  },
  {
   "cell_type": "raw",
   "id": "c0ca8cf9",
   "metadata": {},
   "source": [
    "__int64 __fastcall main(int a1, char **a2, char **a3)\n",
    "{\n",
    "  char s[4356]; // [rsp+0h] [rbp-1120h] BYREF\n",
    "  int v5; // [rsp+1104h] [rbp-1Ch]\n",
    "  int k; // [rsp+1108h] [rbp-18h]\n",
    "  int v7; // [rsp+110Ch] [rbp-14h]\n",
    "  int v8; // [rsp+1110h] [rbp-10h]\n",
    "  int v9; // [rsp+1114h] [rbp-Ch]\n",
    "  int j; // [rsp+1118h] [rbp-8h]\n",
    "  int i; // [rsp+111Ch] [rbp-4h]\n",
    "  __int64 savedregs; // [rsp+1120h] [rbp+0h] BYREF\n",
    "\n",
    "  memset(&s[256], 0, 0x1000uLL);\n",
    "  *(_QWORD *)&s[256] = 32LL;\n",
    "  memset(&s[264], 0, 56);\n",
    "  for ( i = 0; i <= 62; ++i )\n",
    "  {\n",
    "    for ( j = 0; j <= 63; ++j )\n",
    "    {\n",
    "      if ( ((qword_4060[i] >> j) & 1LL) != 0 )\n",
    "        *((_BYTE *)&savedregs + 64 * (__int64)i + j - 4128) = 35;\n",
    "      else\n",
    "        *((_BYTE *)&savedregs + 64 * (__int64)i + j - 4128) = 32;\n",
    "    }\n",
    "  }\n",
    "  v9 = 0;\n",
    "  v8 = 0;\n",
    "  v7 = 1;\n",
    "  __isoc99_scanf(\"%188s\", s);\n",
    "  v5 = strlen(s);\n",
    "  for ( k = 0; k < v5; ++k )\n",
    "  {\n",
    "    switch ( s[k] )\n",
    "    {\n",
    "      case 'L':\n",
    "        --v8;\n",
    "        break;\n",
    "      case 'R':\n",
    "        ++v8;\n",
    "        break;\n",
    "      case 'U':\n",
    "        --v9;\n",
    "        break;\n",
    "      case 'D':\n",
    "        ++v9;\n",
    "        break;\n",
    "    }\n",
    "    if ( *((_BYTE *)&savedregs + 64 * (__int64)v9 + v8 - 4128) == 35 )\n",
    "      v7 = 0;\n",
    "    if ( v9 < 0 )\n",
    "      v7 = 0;\n",
    "    if ( v8 < 0 )\n",
    "      v7 = 0;\n",
    "    if ( v9 > 62 )\n",
    "      v7 = 0;\n",
    "    if ( v8 > 62 )\n",
    "      v7 = 0;\n",
    "  }\n",
    "  if ( v7 == 1 && v9 == 62 && v8 == 62 )\n",
    "  {\n",
    "    puts(\"Congrats!! You can use the flag given by this command to validate the challenge:\");\n",
    "    printf(\"echo -n %s | sha256sum | awk '{ print \\\"FCSC{\\\" $1 \\\"}\\\" }'\\n\", s);\n",
    "  }\n",
    "  return 0LL;\n",
    "}"
   ]
  },
  {
   "cell_type": "markdown",
   "id": "340713a3",
   "metadata": {},
   "source": [
    "We can notice that we change the values of variables v7, v8 and v9 depending on what's given to in scanf function while running the code\n",
    "\n",
    "If we want the flag we need to verify the following condition  :\n",
    "\n",
    "if ( v7 == 1 && v9 == 62 && v8 == 62 )\n",
    " \n",
    "We can notice that this problem looks like a labyrinth intialized at the beginning"
   ]
  },
  {
   "cell_type": "code",
   "execution_count": 83,
   "id": "71f02037",
   "metadata": {},
   "outputs": [
    {
     "name": "stdout",
     "output_type": "stream",
     "text": [
      "Colonnes : 64\n",
      "Lignes :  63\n"
     ]
    }
   ],
   "source": [
    "from PIL import Image\n",
    "\n",
    "def isNotMine(x, y, qword_4060_dec) :\n",
    "    if x<0 or x>63 or y<0 or y>64 :\n",
    "        return false\n",
    "    return ((qword_4060[i] >> j ) & 1 != 0)\n",
    "\n",
    "qword_4060 = [0x7FFFFFFFFFFFFFFC, 0x4004504400511151, 0x7DD5DD5575D77D5D,\n",
    "0x4554455115500451, 0x5F5D5DDD7557F5DD, 0x4105101144455045,\n",
    "0x5DF77FDF77DD57F5, 0x5445104144450001, 0x75F57DFFDDD5FDFD,\n",
    "0x4450400511141011, 0x775777F5DDF7DFF7, 0x4415144001104011,\n",
    "0x55F55DDD577DFF57, 0x5451441555041151, 0x75D7FF57F555DDD7,\n",
    "0x5454045045550401, 0x55D5FFD7DDF7DFD5, 0x4004000450015415,\n",
    "0x57F7D7FF5D7775FD, 0x5545140401100115, 0x5D7DFD7FDD5DF5D5,\n",
    "0x4000050145441415, 0x57DFFDFD5F777755, 0x5541441441541451,\n",
    "0x55755FD57F5DFDFD, 0x5414044511444101, 0x7F7F7775F5DD5FD5,\n",
    "0x4111441414155415, 0x775DF5FF57F5D7D7, 0x4441100045105015,\n",
    "0x75DDD77FDDDF7F7D, 0x4045150040051005, 0x5FD555FF755D7775,\n",
    "0x4114500115404141, 0x5FFDD7DF5DFDFFDD, 0x4415410545515151,\n",
    "0x55F757FDFF5F5D77, 0x5151150041040451, 0x775755F555DD5D5F,\n",
    "0x4415501515114515, 0x55F5F7FDF7DD5DD5, 0x5001004110054501,\n",
    "0x57FDF7FFD7D7F5D7, 0x5101114041511111, 0x77FD7F5FDF5DDD77,\n",
    "0x4040141045100141, 0x5FF7775F757775F5, 0x4041414414511515,\n",
    "0x7DF7DF7DF757F77D, 0x5014101104411441, 0x5DFDDF57D7F77DFD,\n",
    "0x5415014450411101, 0x57D5DDF77DFD77FD, 0x5001054114051105,\n",
    "0x5DDF7D5557F55577, 0x4104411444444511, 0x5FFF5577DD575DFD,\n",
    "0x4500541541155411, 0x755DDD7557DD7775, 0x5445111551111405,\n",
    "0x577DFFD57DD7D7D7, 0x410005100405011, 0x3FFFFFFFFFFFFFFF]\n",
    "\n",
    "qword_4060_dec = []\n",
    "for qword in qword_4060 :\n",
    "    qword_4060_dec.append(format(int(qword)))\n",
    "\n",
    "\n",
    "labyrinthe = []\n",
    "for i in range(63) :\n",
    "    myList = []\n",
    "    for j in range(64) :\n",
    "        if isNotMine(i, j, qword_4060_dec):\n",
    "            myList.append(\".\")\n",
    "        else :\n",
    "            myList.append(\"#\")\n",
    "    labyrinthe.append(myList)\n",
    "\n",
    "\n",
    "\n",
    "print(\"Colonnes :\",len(labyrinthe[0]))\n",
    "print(\"Lignes : \",len(labyrinthe))\n",
    "\n",
    "moveDim = 50\n",
    "newImage = Image.new(\"RGB\", (moveDim * 64 , moveDim * 63), color=\"white\")\n",
    "\n",
    "for i in range(63) :\n",
    "    for j in range(64) :\n",
    "        if labyrinthe[i][j] == \"#\" :\n",
    "            for k in range(moveDim) :\n",
    "                for l in range(moveDim) :\n",
    "                    newImage.putpixel((j*moveDim + k, i*moveDim + l), (255, 255, 255))\n",
    "        elif labyrinthe[i][j] == \".\" :\n",
    "            for k in range(moveDim) :\n",
    "                for l in range(moveDim) :\n",
    "                    newImage.putpixel((j*moveDim + k, i*moveDim + l), (0, 0, 0))\n",
    "newImage.save(\"labyrinth.png\")"
   ]
  },
  {
   "cell_type": "markdown",
   "id": "87312fc8",
   "metadata": {},
   "source": [
    "![alt text](labyrinth.png \"IDA_Screenshot\")"
   ]
  },
  {
   "cell_type": "markdown",
   "id": "8af44e86",
   "metadata": {},
   "source": [
    "Now that we have the labyrinth, we can solve it by beginning at (0,0) and noting the move we did.\n",
    "\n",
    "We can find an algorithmic solution too\n",
    "\n",
    "Here is the sequence of moves we should make :"
   ]
  },
  {
   "cell_type": "code",
   "execution_count": 70,
   "id": "f61f611f",
   "metadata": {},
   "outputs": [],
   "source": [
    "moves = \"RDDDDDDDDDRRDDDDDDRRDDRRRRDDRRRRRRRRDDLLDDRRDDDDDDLLDDDDRRRRRRUURRRRRRRRUUUURRDDRRRRRRRRRRRRDDDDDDRRUUUURRDDRRUUUURRRRUURRDDRRDDRRRRDDDDLLDDDDDDDDDDRRDDLLLLDDDDLLLLDDRRRRDDRRRRDDLLDDDDRRRDR\""
   ]
  },
  {
   "cell_type": "markdown",
   "id": "f9f4d5cc",
   "metadata": {},
   "source": [
    "We can also make a check that v8 and v9 are equal to 62"
   ]
  },
  {
   "cell_type": "code",
   "execution_count": 73,
   "id": "5c16043a",
   "metadata": {},
   "outputs": [
    {
     "name": "stdout",
     "output_type": "stream",
     "text": [
      "(62, 62)\n"
     ]
    },
    {
     "data": {
      "text/plain": [
       "True"
      ]
     },
     "execution_count": 73,
     "metadata": {},
     "output_type": "execute_result"
    }
   ],
   "source": [
    "def check(moves) :\n",
    "    v8 = 0\n",
    "    v9 = 0\n",
    "    \n",
    "    for i in range(1, len(moves)) :\n",
    "        c = moves[i]\n",
    "        if c == \"L\" :\n",
    "            v8 -= 1\n",
    "        elif c == \"R\" :\n",
    "            v8 += 1\n",
    "        elif c == \"U\" :\n",
    "            v9 -= 1\n",
    "        elif c == \"D\" :\n",
    "            v9 += 1\n",
    "    if v8 == 62 and v9 == 62 : \n",
    "        print((v8,v9))\n",
    "        return True\n",
    "    return False\n",
    "check(moves)"
   ]
  },
  {
   "cell_type": "markdown",
   "id": "06519e09",
   "metadata": {},
   "source": [
    "![alt text](solution1.png \"solution1\")"
   ]
  },
  {
   "cell_type": "markdown",
   "id": "d86a4546",
   "metadata": {},
   "source": [
    "![alt text](solution2.png \"solution2\")"
   ]
  },
  {
   "cell_type": "markdown",
   "id": "259a4fc3",
   "metadata": {},
   "source": [
    "![alt text](congrats.png \"congrats\")"
   ]
  }
 ],
 "metadata": {
  "kernelspec": {
   "display_name": "Python 3",
   "language": "python",
   "name": "python3"
  },
  "language_info": {
   "codemirror_mode": {
    "name": "ipython",
    "version": 3
   },
   "file_extension": ".py",
   "mimetype": "text/x-python",
   "name": "python",
   "nbconvert_exporter": "python",
   "pygments_lexer": "ipython3",
   "version": "3.7.3"
  }
 },
 "nbformat": 4,
 "nbformat_minor": 5
}
